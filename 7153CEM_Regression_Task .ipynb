{
  "cells": [
    {
      "cell_type": "code",
      "execution_count": null,
      "metadata": {
        "id": "J79FvFhaEjJS"
      },
      "outputs": [],
      "source": []
    },
    {
      "cell_type": "markdown",
      "source": [
        "# **COVENTRY UNIVERSITY**\n",
        "CODE: CHARLES NWANKPA"
      ],
      "metadata": {
        "id": "S_dFDH8XVhem"
      }
    },
    {
      "cell_type": "code",
      "execution_count": null,
      "metadata": {
        "id": "dEo4W61UEu4f"
      },
      "outputs": [],
      "source": []
    },
    {
      "cell_type": "code",
      "execution_count": 1,
      "metadata": {
        "id": "wpAuSLD9Eu7G"
      },
      "outputs": [],
      "source": [
        "!apt-get install openjdk-8-jdk-headless -qq > /dev/null\n"
      ]
    },
    {
      "cell_type": "code",
      "execution_count": 2,
      "metadata": {
        "id": "a8HOz_jUEvAD"
      },
      "outputs": [],
      "source": [
        "!wget -q https://archive.apache.org/dist/spark/spark-3.1.2/spark-3.1.2-bin-hadoop2.7.tgz\n"
      ]
    },
    {
      "cell_type": "code",
      "execution_count": 3,
      "metadata": {
        "id": "7KXo6tQJEvCZ"
      },
      "outputs": [],
      "source": [
        "!tar xf spark-3.1.2-bin-hadoop2.7.tgz\n"
      ]
    },
    {
      "cell_type": "code",
      "execution_count": 4,
      "metadata": {
        "id": "F0ZRmF_1EvEv",
        "colab": {
          "base_uri": "https://localhost:8080/"
        },
        "outputId": "9f7d4cd3-78ab-4313-d25c-312634a47f5b"
      },
      "outputs": [
        {
          "output_type": "stream",
          "name": "stdout",
          "text": [
            "Collecting pyspark\n",
            "  Downloading pyspark-3.4.1.tar.gz (310.8 MB)\n",
            "\u001b[2K     \u001b[90m━━━━━━━━━━━━━━━━━━━━━━━━━━━━━━━━━━━━━━━\u001b[0m \u001b[32m310.8/310.8 MB\u001b[0m \u001b[31m3.1 MB/s\u001b[0m eta \u001b[36m0:00:00\u001b[0m\n",
            "\u001b[?25h  Preparing metadata (setup.py) ... \u001b[?25l\u001b[?25hdone\n",
            "Requirement already satisfied: py4j==0.10.9.7 in /usr/local/lib/python3.10/dist-packages (from pyspark) (0.10.9.7)\n",
            "Building wheels for collected packages: pyspark\n",
            "  Building wheel for pyspark (setup.py) ... \u001b[?25l\u001b[?25hdone\n",
            "  Created wheel for pyspark: filename=pyspark-3.4.1-py2.py3-none-any.whl size=311285388 sha256=827bb11b9ce128f9c4a5b3c40b157dd4a191709275c902688391d1a1aa63bbc1\n",
            "  Stored in directory: /root/.cache/pip/wheels/0d/77/a3/ff2f74cc9ab41f8f594dabf0579c2a7c6de920d584206e0834\n",
            "Successfully built pyspark\n",
            "Installing collected packages: pyspark\n",
            "Successfully installed pyspark-3.4.1\n"
          ]
        }
      ],
      "source": [
        "!pip install -q findspark\n",
        "!pip install pyspark\n"
      ]
    },
    {
      "cell_type": "code",
      "execution_count": 4,
      "metadata": {
        "id": "YGbg9J_MFRHc"
      },
      "outputs": [],
      "source": []
    },
    {
      "cell_type": "code",
      "source": [],
      "metadata": {
        "id": "gMPR0hgtRgcG"
      },
      "execution_count": 4,
      "outputs": []
    },
    {
      "cell_type": "markdown",
      "source": [
        "Dataset Link [https://www.kaggle.com/datasets/ydalat/lifestyle-and-wellbeing-data]"
      ],
      "metadata": {
        "id": "fDVY8f-TUv6q"
      }
    },
    {
      "cell_type": "markdown",
      "source": [
        "## **Loading the data from the Orb using PySpark.**"
      ],
      "metadata": {
        "id": "FEOSLWOxRhGk"
      }
    },
    {
      "cell_type": "code",
      "execution_count": 5,
      "metadata": {
        "id": "Gm_J6MHsE3wY"
      },
      "outputs": [],
      "source": [
        "from pyspark.sql import SparkSession\n",
        "\n",
        "spark = SparkSession.builder.appName(\"Lifestle & Wellbeing Analysis\").getOrCreate()\n",
        "orb = spark.read.csv('/content/lifestyle_wellbeing.csv', header=True, inferSchema=True)\n"
      ]
    },
    {
      "cell_type": "code",
      "execution_count": 6,
      "metadata": {
        "id": "mpCzagwsE31U",
        "colab": {
          "base_uri": "https://localhost:8080/"
        },
        "outputId": "ede0f0f5-68f9-4185-f5c1-2a111b20ea0e"
      },
      "outputs": [
        {
          "output_type": "stream",
          "name": "stdout",
          "text": [
            "+---------+--------------+------------+--------------+-----------+-----------------+--------------+-----------+--------+---------+--------------+----+-----------+-----------+-----------+-------------+--------------+-----------------+---------------+----------------+-----------------+----------+------+-----------------------+\n",
            "|Timestamp|FRUITS_VEGGIES|DAILY_STRESS|PLACES_VISITED|CORE_CIRCLE|SUPPORTING_OTHERS|SOCIAL_NETWORK|ACHIEVEMENT|DONATION|BMI_RANGE|TODO_COMPLETED|FLOW|DAILY_STEPS|LIVE_VISION|SLEEP_HOURS|LOST_VACATION|DAILY_SHOUTING|SUFFICIENT_INCOME|PERSONAL_AWARDS|TIME_FOR_PASSION|WEEKLY_MEDITATION|       AGE|GENDER|WORK_LIFE_BALANCE_SCORE|\n",
            "+---------+--------------+------------+--------------+-----------+-----------------+--------------+-----------+--------+---------+--------------+----+-----------+-----------+-----------+-------------+--------------+-----------------+---------------+----------------+-----------------+----------+------+-----------------------+\n",
            "|   7/7/15|             3|           2|             2|          5|                0|             5|          2|       0|        1|             6|   4|          5|          0|          7|            5|             5|                1|              4|               0|                5|  36 to 50|Female|                  609.5|\n",
            "|   7/7/15|             2|           3|             4|          3|                8|            10|          5|       2|        2|             5|   2|          5|          5|          8|            2|             2|                2|              3|               2|                6|  36 to 50|Female|                  655.6|\n",
            "|   7/7/15|             2|           3|             3|          4|                4|            10|          3|       2|        2|             2|   2|          4|          5|          8|           10|             2|                2|              4|               8|                3|  36 to 50|Female|                  631.6|\n",
            "|   7/7/15|             3|           3|            10|          3|               10|             7|          2|       5|        2|             3|   5|          5|          0|          5|            7|             5|                1|              5|               2|                0|51 or more|Female|                  622.7|\n",
            "|   7/7/15|             5|           1|             3|          3|               10|             4|          2|       4|        2|             5|   0|          5|          0|          7|            0|             0|                2|              8|               1|                5|51 or more|Female|                  663.9|\n",
            "|   7/8/15|             3|           2|             3|          9|               10|            10|          2|       3|        1|             6|   1|          7|         10|          8|            0|             2|                2|             10|               8|                3|51 or more|Female|                  722.3|\n",
            "|   7/8/15|             4|           2|            10|          6|               10|            10|          3|       5|        2|             8|   8|          7|          5|          7|           10|             0|                2|             10|               8|               10|51 or more|  Male|                  727.2|\n",
            "|   7/9/15|             3|           4|             5|          3|                5|             7|          4|       0|        1|             8|   2|          8|         10|          6|            0|             2|                2|              8|               2|                2|  21 to 35|Female|                  676.2|\n",
            "|   7/9/15|             5|           3|             6|          4|                3|             3|          5|       4|        1|            10|   2|          1|          5|         10|            0|             2|                2|             10|               3|               10|  21 to 35|Female|                  702.8|\n",
            "|  7/10/15|             4|           4|             2|          6|               10|            10|          0|       4|        2|             3|   2|          3|          0|          6|            0|             0|                1|              3|               8|                1|51 or more|Female|                  634.4|\n",
            "|  7/10/15|             2|           4|             7|          7|                1|             1|          3|       0|        2|             2|   2|          7|          4|          8|            7|             3|                2|              3|               0|                6|  36 to 50|Female|                  610.1|\n",
            "|  7/12/15|             1|           4|             3|          8|                0|             2|          1|       0|        1|             2|   1|          8|          2|          7|            7|             1|                2|              4|               1|                7|  21 to 35|  Male|                  618.6|\n",
            "|  7/12/15|             2|           2|            10|          5|                2|             8|          3|       4|        2|             7|   1|          6|         10|          8|            0|             0|                2|              5|               2|                7|  21 to 35|  Male|                  686.4|\n",
            "|  7/12/15|             5|           3|             0|          3|                6|             6|          6|       3|        1|             8|   7|          7|          2|          6|            0|             3|                2|              5|               6|                5|  36 to 50|Female|                  689.6|\n",
            "|  7/12/15|             3|           3|             2|          3|                7|             5|          3|       2|        1|             8|   0|          2|          5|          8|            3|             2|                1|              4|               5|                4|  21 to 35|Female|                  639.7|\n",
            "|  7/12/15|             3|           3|             5|          4|               10|            10|          2|       5|        1|             7|   2|          8|         10|          6|            1|             2|                2|              8|               3|               10|51 or more|Female|                  720.4|\n",
            "|  7/12/15|             4|           2|            10|          4|                6|            10|          4|       0|        1|             8|   2|          1|          1|          8|            1|             1|                2|              3|               3|                3|  21 to 35|  Male|                  673.5|\n",
            "|  7/12/15|             4|           2|            10|         10|                5|            10|          0|       1|        1|             7|   1|         10|          2|          8|            0|             3|                2|              4|               8|                6|  21 to 35|  Male|                  707.6|\n",
            "|  7/12/15|             5|           3|            10|          7|               10|             5|          6|       5|        1|             6|   2|          8|         10|          9|            0|             7|                2|              5|               4|                7|  36 to 50|Female|                  727.8|\n",
            "|  7/13/15|             3|           1|             6|         10|               10|             6|          3|       5|        2|             8|   4|          1|          5|          8|            0|             0|                2|              5|               1|                2|  36 to 50|  Male|                  687.1|\n",
            "+---------+--------------+------------+--------------+-----------+-----------------+--------------+-----------+--------+---------+--------------+----+-----------+-----------+-----------+-------------+--------------+-----------------+---------------+----------------+-----------------+----------+------+-----------------------+\n",
            "only showing top 20 rows\n",
            "\n"
          ]
        }
      ],
      "source": [
        "orb.show()\n"
      ]
    },
    {
      "cell_type": "code",
      "source": [
        "print(orb.count())\n"
      ],
      "metadata": {
        "colab": {
          "base_uri": "https://localhost:8080/"
        },
        "id": "LLb7L9BWqoRC",
        "outputId": "905ac881-703a-47d6-e66f-a7ec3e7ce1f0"
      },
      "execution_count": 7,
      "outputs": [
        {
          "output_type": "stream",
          "name": "stdout",
          "text": [
            "15972\n"
          ]
        }
      ]
    },
    {
      "cell_type": "code",
      "execution_count": 8,
      "metadata": {
        "id": "82pwx8uOE4EK",
        "colab": {
          "base_uri": "https://localhost:8080/"
        },
        "outputId": "d1f22738-08fc-4812-8b58-f2a0e1842e0d"
      },
      "outputs": [
        {
          "output_type": "stream",
          "name": "stdout",
          "text": [
            "+---------+--------------+------------+--------------+-----------+-----------------+--------------+-----------+--------+---------+--------------+----+-----------+-----------+-----------+-------------+--------------+-----------------+---------------+----------------+-----------------+---+------+-----------------------+\n",
            "|Timestamp|FRUITS_VEGGIES|DAILY_STRESS|PLACES_VISITED|CORE_CIRCLE|SUPPORTING_OTHERS|SOCIAL_NETWORK|ACHIEVEMENT|DONATION|BMI_RANGE|TODO_COMPLETED|FLOW|DAILY_STEPS|LIVE_VISION|SLEEP_HOURS|LOST_VACATION|DAILY_SHOUTING|SUFFICIENT_INCOME|PERSONAL_AWARDS|TIME_FOR_PASSION|WEEKLY_MEDITATION|AGE|GENDER|WORK_LIFE_BALANCE_SCORE|\n",
            "+---------+--------------+------------+--------------+-----------+-----------------+--------------+-----------+--------+---------+--------------+----+-----------+-----------+-----------+-------------+--------------+-----------------+---------------+----------------+-----------------+---+------+-----------------------+\n",
            "|        0|             0|           0|             0|          0|                0|             0|          0|       0|        0|             0|   0|          0|          0|          0|            0|             0|                0|              0|               0|                0|  0|     0|                      0|\n",
            "+---------+--------------+------------+--------------+-----------+-----------------+--------------+-----------+--------+---------+--------------+----+-----------+-----------+-----------+-------------+--------------+-----------------+---------------+----------------+-----------------+---+------+-----------------------+\n",
            "\n"
          ]
        }
      ],
      "source": [
        "#calculating the number of null values in each column\n",
        "from pyspark.sql.functions import col, sum\n",
        "\n",
        "orb.select(*(sum(col(c).isNull().cast(\"int\")).alias(c) for c in orb.columns)).show()\n"
      ]
    },
    {
      "cell_type": "code",
      "execution_count": 9,
      "metadata": {
        "id": "_zUFv0RDE4Nz",
        "colab": {
          "base_uri": "https://localhost:8080/"
        },
        "outputId": "398898ec-55f0-4007-d7ab-290bc841a74f"
      },
      "outputs": [
        {
          "output_type": "stream",
          "name": "stdout",
          "text": [
            "+-------+-----------+------------------+------------------+------------------+------------------+-----------------+-----------------+------------------+------------------+------------------+-----------------+------------------+------------------+-----------------+------------------+------------------+------------------+-------------------+------------------+------------------+-----------------+------------+------+-----------------------+\n",
            "|summary|  Timestamp|    FRUITS_VEGGIES|      DAILY_STRESS|    PLACES_VISITED|       CORE_CIRCLE|SUPPORTING_OTHERS|   SOCIAL_NETWORK|       ACHIEVEMENT|          DONATION|         BMI_RANGE|   TODO_COMPLETED|              FLOW|       DAILY_STEPS|      LIVE_VISION|       SLEEP_HOURS|     LOST_VACATION|    DAILY_SHOUTING|  SUFFICIENT_INCOME|   PERSONAL_AWARDS|  TIME_FOR_PASSION|WEEKLY_MEDITATION|         AGE|GENDER|WORK_LIFE_BALANCE_SCORE|\n",
            "+-------+-----------+------------------+------------------+------------------+------------------+-----------------+-----------------+------------------+------------------+------------------+-----------------+------------------+------------------+-----------------+------------------+------------------+------------------+-------------------+------------------+------------------+-----------------+------------+------+-----------------------+\n",
            "|  count|      15972|             15972|             15972|             15972|             15972|            15972|            15972|             15972|             15972|             15972|            15972|             15972|             15972|            15972|             15972|             15972|             15972|              15972|             15972|             15972|            15972|       15972| 15972|                  15972|\n",
            "|   mean|       null| 2.922677185073879|2.7916849289336922| 5.232970197846231| 5.508076634109692|5.616453794139745|6.474267468069121| 4.000751314800902|2.7153143000250437| 1.410656148259454|5.745992987728525| 3.194778362133734| 5.703606311044328|3.752128725269221| 7.042887553218132| 2.898885549711996| 2.930879038317055| 1.7289631855747558| 5.711557726020536| 3.326571500125219|6.233345855246681|        null|  null|      666.7515026296032|\n",
            "| stddev|       null|1.4426942233979019|1.3678007467520352|3.3119123254937324|2.8403335572271833|3.242021034924002|3.086672183956178|2.7558373901607927| 1.851586429915072|0.4919683218732375|2.624097276447961|2.3575175409623665|2.8910125056198486|3.230986852229526|1.1990442948306186|3.6921795194479654|2.6763011497421796|0.44450897692281643|3.0896295789391575|2.7292927791428534|3.016571018122333|        null|  null|     45.019868198234136|\n",
            "|    min|     1/1/16|                 0|                 0|                 0|                 0|                0|                0|                 0|                 0|                 1|                0|                 0|                 1|                0|                 1|                 0|                 0|                  1|                 0|                 0|                0|    21 to 35|Female|                  480.0|\n",
            "|    max|9/9/20 8:10|                 5|                 5|                10|                10|               10|               10|                10|                 5|                 2|               10|                10|                10|               10|                10|                10|                10|                  2|                10|                10|               10|Less than 20|  Male|                  820.2|\n",
            "+-------+-----------+------------------+------------------+------------------+------------------+-----------------+-----------------+------------------+------------------+------------------+-----------------+------------------+------------------+-----------------+------------------+------------------+------------------+-------------------+------------------+------------------+-----------------+------------+------+-----------------------+\n",
            "\n"
          ]
        }
      ],
      "source": [
        "#computing basic statistics for numeric and string columns\n",
        "orb.describe().show()\n"
      ]
    },
    {
      "cell_type": "code",
      "execution_count": 10,
      "metadata": {
        "id": "-521Ft65E4SO",
        "colab": {
          "base_uri": "https://localhost:8080/"
        },
        "outputId": "d93a18a0-60e4-4154-c26a-e5cbdab09710"
      },
      "outputs": [
        {
          "output_type": "stream",
          "name": "stdout",
          "text": [
            "+------+-----+\n",
            "|GENDER|count|\n",
            "+------+-----+\n",
            "|Female| 9858|\n",
            "|  Male| 6114|\n",
            "+------+-----+\n",
            "\n",
            "+------------+-----+\n",
            "|         AGE|count|\n",
            "+------------+-----+\n",
            "|  51 or more| 3390|\n",
            "|    36 to 50| 4655|\n",
            "|    21 to 35| 6108|\n",
            "|Less than 20| 1819|\n",
            "+------------+-----+\n",
            "\n"
          ]
        }
      ],
      "source": [
        "#counting occurrences of unique values in the specified columns\n",
        "orb.groupBy(\"GENDER\").count().show()\n",
        "orb.groupBy(\"AGE\").count().show()\n"
      ]
    },
    {
      "cell_type": "markdown",
      "source": [
        "# Display the Orb's structure in a Schema"
      ],
      "metadata": {
        "id": "N9iR0M3gR4TD"
      }
    },
    {
      "cell_type": "code",
      "execution_count": 11,
      "metadata": {
        "id": "-0uNepv5LL76",
        "colab": {
          "base_uri": "https://localhost:8080/"
        },
        "outputId": "654453e9-ae37-4cc1-9c8d-5d9b18fcda0b"
      },
      "outputs": [
        {
          "output_type": "stream",
          "name": "stdout",
          "text": [
            "root\n",
            " |-- Timestamp: string (nullable = true)\n",
            " |-- FRUITS_VEGGIES: integer (nullable = true)\n",
            " |-- DAILY_STRESS: string (nullable = true)\n",
            " |-- PLACES_VISITED: integer (nullable = true)\n",
            " |-- CORE_CIRCLE: integer (nullable = true)\n",
            " |-- SUPPORTING_OTHERS: integer (nullable = true)\n",
            " |-- SOCIAL_NETWORK: integer (nullable = true)\n",
            " |-- ACHIEVEMENT: integer (nullable = true)\n",
            " |-- DONATION: integer (nullable = true)\n",
            " |-- BMI_RANGE: integer (nullable = true)\n",
            " |-- TODO_COMPLETED: integer (nullable = true)\n",
            " |-- FLOW: integer (nullable = true)\n",
            " |-- DAILY_STEPS: integer (nullable = true)\n",
            " |-- LIVE_VISION: integer (nullable = true)\n",
            " |-- SLEEP_HOURS: integer (nullable = true)\n",
            " |-- LOST_VACATION: integer (nullable = true)\n",
            " |-- DAILY_SHOUTING: integer (nullable = true)\n",
            " |-- SUFFICIENT_INCOME: integer (nullable = true)\n",
            " |-- PERSONAL_AWARDS: integer (nullable = true)\n",
            " |-- TIME_FOR_PASSION: integer (nullable = true)\n",
            " |-- WEEKLY_MEDITATION: integer (nullable = true)\n",
            " |-- AGE: string (nullable = true)\n",
            " |-- GENDER: string (nullable = true)\n",
            " |-- WORK_LIFE_BALANCE_SCORE: double (nullable = true)\n",
            "\n"
          ]
        }
      ],
      "source": [
        "#displaying the schema in a tree format showing information on column names, data types, and nullability\n",
        "orb.printSchema()\n"
      ]
    },
    {
      "cell_type": "markdown",
      "source": [
        "# Checking for Unique Values"
      ],
      "metadata": {
        "id": "hgJvWmxbSHW3"
      }
    },
    {
      "cell_type": "code",
      "execution_count": 12,
      "metadata": {
        "id": "FM-Of9OCLMEg",
        "colab": {
          "base_uri": "https://localhost:8080/"
        },
        "outputId": "c4378079-7aee-4293-ddc6-2f9a8ee5736b"
      },
      "outputs": [
        {
          "output_type": "stream",
          "name": "stdout",
          "text": [
            "['Timestamp', 'DAILY_STRESS', 'AGE', 'GENDER']\n"
          ]
        }
      ],
      "source": [
        "from pyspark.sql.types import StringType\n",
        "\n",
        "#extracting the names of columns that are of string data type\n",
        "string_columns = [f.name for f in orb.schema.fields if isinstance(f.dataType, StringType)]\n",
        "print(string_columns)\n"
      ]
    },
    {
      "cell_type": "code",
      "execution_count": 13,
      "metadata": {
        "id": "BvQsRbExWd-r",
        "colab": {
          "base_uri": "https://localhost:8080/"
        },
        "outputId": "de47e292-2fa9-4ea3-f1e6-15e0b8104b99"
      },
      "outputs": [
        {
          "output_type": "stream",
          "name": "stdout",
          "text": [
            "Unique values for DAILY_STRESS:\n",
            "+------------+\n",
            "|DAILY_STRESS|\n",
            "+------------+\n",
            "|3           |\n",
            "|0           |\n",
            "|5           |\n",
            "|1/1/00      |\n",
            "|1           |\n",
            "|4           |\n",
            "|2           |\n",
            "+------------+\n",
            "\n",
            "Unique values for AGE:\n",
            "+------------+\n",
            "|AGE         |\n",
            "+------------+\n",
            "|51 or more  |\n",
            "|36 to 50    |\n",
            "|21 to 35    |\n",
            "|Less than 20|\n",
            "+------------+\n",
            "\n",
            "Unique values for GENDER:\n",
            "+------+\n",
            "|GENDER|\n",
            "+------+\n",
            "|Female|\n",
            "|Male  |\n",
            "+------+\n",
            "\n"
          ]
        }
      ],
      "source": [
        "#Printing potential categorical columns based on their distinct values.\n",
        "\n",
        "potential_categorical_columns = ['DAILY_STRESS', 'AGE', 'GENDER']\n",
        "\n",
        "for col in potential_categorical_columns:\n",
        "    print(f\"Unique values for {col}:\")\n",
        "    orb.select(col).distinct().show(truncate=False)\n"
      ]
    },
    {
      "cell_type": "code",
      "execution_count": 13,
      "metadata": {
        "id": "SN00k1vQWeaB"
      },
      "outputs": [],
      "source": []
    },
    {
      "cell_type": "markdown",
      "source": [
        "# Ordinal Encoding for the age range"
      ],
      "metadata": {
        "id": "M2GZ4zGXSboV"
      }
    },
    {
      "cell_type": "code",
      "execution_count": 14,
      "metadata": {
        "id": "9UqC-Sj1LMIJ"
      },
      "outputs": [],
      "source": [
        "from pyspark.sql.functions import when\n",
        "\n",
        "#Encoding the 'AGE' column ordinally based on the age range\n",
        "#Transform categorical string data into ordinal numerical data\n",
        "#Added a new column to the orb called AGE_encoded\n",
        "\n",
        "orb = orb.withColumn(\"AGE_encoded\",\n",
        "                   when(orb[\"AGE\"] == \"Less than 20\", 0)  # if 'AGE' is \"Less than 20\", assign 0\n",
        "                   .when(orb[\"AGE\"] == \"21 to 35\", 1)     # else if 'AGE' is \"21 to 35\", assign 1\n",
        "                   .when(orb[\"AGE\"] == \"36 to 50\", 2)     # else if 'AGE' is \"36 to 50\", assign 2\n",
        "                   .otherwise(3))                         # for all other cases (i.e., \"51 or more\"), assign 3\n"
      ]
    },
    {
      "cell_type": "code",
      "execution_count": 15,
      "metadata": {
        "id": "M85ZWycQTQER",
        "colab": {
          "base_uri": "https://localhost:8080/"
        },
        "outputId": "7f2d3bea-012a-446e-f094-2c2722120a9a"
      },
      "outputs": [
        {
          "output_type": "stream",
          "name": "stdout",
          "text": [
            "+----------+-----------+\n",
            "|       AGE|AGE_encoded|\n",
            "+----------+-----------+\n",
            "|  36 to 50|          2|\n",
            "|  36 to 50|          2|\n",
            "|  36 to 50|          2|\n",
            "|51 or more|          3|\n",
            "|51 or more|          3|\n",
            "|51 or more|          3|\n",
            "|51 or more|          3|\n",
            "|  21 to 35|          1|\n",
            "|  21 to 35|          1|\n",
            "|51 or more|          3|\n",
            "|  36 to 50|          2|\n",
            "|  21 to 35|          1|\n",
            "|  21 to 35|          1|\n",
            "|  36 to 50|          2|\n",
            "|  21 to 35|          1|\n",
            "|51 or more|          3|\n",
            "|  21 to 35|          1|\n",
            "|  21 to 35|          1|\n",
            "|  36 to 50|          2|\n",
            "|  36 to 50|          2|\n",
            "+----------+-----------+\n",
            "only showing top 20 rows\n",
            "\n",
            "root\n",
            " |-- AGE: string (nullable = true)\n",
            " |-- AGE_encoded: integer (nullable = false)\n",
            "\n"
          ]
        }
      ],
      "source": [
        "#viewing the old and new AGE column\n",
        "#viewing the schema of the selected columns\n",
        "\n",
        "age_check = orb.select(\"AGE\", \"AGE_encoded\")\n",
        "age_check.show()\n",
        "\n",
        "age_check.printSchema()\n"
      ]
    },
    {
      "cell_type": "code",
      "source": [],
      "metadata": {
        "id": "_sH9gfmTAP6v"
      },
      "execution_count": 15,
      "outputs": []
    },
    {
      "cell_type": "markdown",
      "source": [
        "# Handling Outliers"
      ],
      "metadata": {
        "id": "NRHATh8BSjh6"
      }
    },
    {
      "cell_type": "code",
      "execution_count": 16,
      "metadata": {
        "id": "VGcBZBhpUY1O",
        "colab": {
          "base_uri": "https://localhost:8080/"
        },
        "outputId": "206a4400-1b53-4c59-d43c-f59d6828c26a"
      },
      "outputs": [
        {
          "output_type": "stream",
          "name": "stdout",
          "text": [
            "Unique values for DAILY_STRESS:\n",
            "+------------+\n",
            "|DAILY_STRESS|\n",
            "+------------+\n",
            "|3           |\n",
            "|0           |\n",
            "|5           |\n",
            "|1           |\n",
            "|4           |\n",
            "|2           |\n",
            "+------------+\n",
            "\n"
          ]
        }
      ],
      "source": [
        "from pyspark.sql.functions import mode\n",
        "\n",
        "#If the value in the \"DAILY_STRESS\" column is \"1/1/00\", replace it with mode_value\n",
        "\n",
        "# Calculate the mode\n",
        "mode_value = orb.groupBy(\"DAILY_STRESS\").count().orderBy(\"count\", ascending=False).first()[0]\n",
        "\n",
        "# Replace \"1/1/00\" with the mode\n",
        "orb = orb.withColumn(\"DAILY_STRESS\",\n",
        "                   when(orb[\"DAILY_STRESS\"] == \"1/1/00\", mode_value).otherwise(orb[\"DAILY_STRESS\"]))\n",
        "\n",
        "print(\"Unique values for DAILY_STRESS:\")\n",
        "orb.select(\"DAILY_STRESS\").distinct().show(truncate=False)\n"
      ]
    },
    {
      "cell_type": "markdown",
      "source": [
        "# String Indexing and Label Encoding"
      ],
      "metadata": {
        "id": "uDaZDN-gSqlF"
      }
    },
    {
      "cell_type": "code",
      "execution_count": 17,
      "metadata": {
        "id": "RCmU-FdyUY7N"
      },
      "outputs": [],
      "source": [
        "# Import necessary libraries and functions\n",
        "from pyspark.ml.feature import StringIndexer\n",
        "\n",
        "# Creating StringIndexers for columns that need to be encoded\n",
        "stress_indexer = StringIndexer(inputCol=\"DAILY_STRESS\", outputCol=\"DAILY_STRESS_encoded\")\n",
        "gender_indexer = StringIndexer(inputCol=\"GENDER\", outputCol=\"GENDER_encoded\")\n",
        "\n",
        "\n",
        "# Applying the indexers, fit and transform the orb\n",
        "orb_encoded = stress_indexer.fit(orb).transform(orb)\n",
        "orb_encoded = gender_indexer.fit(orb_encoded).transform(orb_encoded)\n"
      ]
    },
    {
      "cell_type": "code",
      "source": [],
      "metadata": {
        "id": "eGUgWfWUDEmb"
      },
      "execution_count": 17,
      "outputs": []
    },
    {
      "cell_type": "markdown",
      "source": [
        "# Dropping irrelevant features"
      ],
      "metadata": {
        "id": "ElbLDrwVS8hS"
      }
    },
    {
      "cell_type": "code",
      "execution_count": 18,
      "metadata": {
        "id": "usZi8xcnUZDT",
        "colab": {
          "base_uri": "https://localhost:8080/"
        },
        "outputId": "2d4935e5-659b-4938-ba56-c1bd16407fa7"
      },
      "outputs": [
        {
          "output_type": "stream",
          "name": "stdout",
          "text": [
            "+--------------+--------------+-----------+-----------------+--------------+-----------+--------+---------+--------------+----+-----------+-----------+-----------+-------------+--------------+-----------------+---------------+----------------+-----------------+-----------------------+-----------+--------------------+--------------+\n",
            "|FRUITS_VEGGIES|PLACES_VISITED|CORE_CIRCLE|SUPPORTING_OTHERS|SOCIAL_NETWORK|ACHIEVEMENT|DONATION|BMI_RANGE|TODO_COMPLETED|FLOW|DAILY_STEPS|LIVE_VISION|SLEEP_HOURS|LOST_VACATION|DAILY_SHOUTING|SUFFICIENT_INCOME|PERSONAL_AWARDS|TIME_FOR_PASSION|WEEKLY_MEDITATION|WORK_LIFE_BALANCE_SCORE|AGE_encoded|DAILY_STRESS_encoded|GENDER_encoded|\n",
            "+--------------+--------------+-----------+-----------------+--------------+-----------+--------+---------+--------------+----+-----------+-----------+-----------+-------------+--------------+-----------------+---------------+----------------+-----------------+-----------------------+-----------+--------------------+--------------+\n",
            "|             3|             2|          5|                0|             5|          2|       0|        1|             6|   4|          5|          0|          7|            5|             5|                1|              4|               0|                5|                  609.5|          2|                 1.0|           0.0|\n",
            "|             2|             4|          3|                8|            10|          5|       2|        2|             5|   2|          5|          5|          8|            2|             2|                2|              3|               2|                6|                  655.6|          2|                 0.0|           0.0|\n",
            "|             2|             3|          4|                4|            10|          3|       2|        2|             2|   2|          4|          5|          8|           10|             2|                2|              4|               8|                3|                  631.6|          2|                 0.0|           0.0|\n",
            "|             3|            10|          3|               10|             7|          2|       5|        2|             3|   5|          5|          0|          5|            7|             5|                1|              5|               2|                0|                  622.7|          3|                 0.0|           0.0|\n",
            "|             5|             3|          3|               10|             4|          2|       4|        2|             5|   0|          5|          0|          7|            0|             0|                2|              8|               1|                5|                  663.9|          3|                 3.0|           0.0|\n",
            "|             3|             3|          9|               10|            10|          2|       3|        1|             6|   1|          7|         10|          8|            0|             2|                2|             10|               8|                3|                  722.3|          3|                 1.0|           0.0|\n",
            "|             4|            10|          6|               10|            10|          3|       5|        2|             8|   8|          7|          5|          7|           10|             0|                2|             10|               8|               10|                  727.2|          3|                 1.0|           1.0|\n",
            "|             3|             5|          3|                5|             7|          4|       0|        1|             8|   2|          8|         10|          6|            0|             2|                2|              8|               2|                2|                  676.2|          1|                 2.0|           0.0|\n",
            "|             5|             6|          4|                3|             3|          5|       4|        1|            10|   2|          1|          5|         10|            0|             2|                2|             10|               3|               10|                  702.8|          1|                 0.0|           0.0|\n",
            "|             4|             2|          6|               10|            10|          0|       4|        2|             3|   2|          3|          0|          6|            0|             0|                1|              3|               8|                1|                  634.4|          3|                 2.0|           0.0|\n",
            "|             2|             7|          7|                1|             1|          3|       0|        2|             2|   2|          7|          4|          8|            7|             3|                2|              3|               0|                6|                  610.1|          2|                 2.0|           0.0|\n",
            "|             1|             3|          8|                0|             2|          1|       0|        1|             2|   1|          8|          2|          7|            7|             1|                2|              4|               1|                7|                  618.6|          1|                 2.0|           1.0|\n",
            "|             2|            10|          5|                2|             8|          3|       4|        2|             7|   1|          6|         10|          8|            0|             0|                2|              5|               2|                7|                  686.4|          1|                 1.0|           1.0|\n",
            "|             5|             0|          3|                6|             6|          6|       3|        1|             8|   7|          7|          2|          6|            0|             3|                2|              5|               6|                5|                  689.6|          2|                 0.0|           0.0|\n",
            "|             3|             2|          3|                7|             5|          3|       2|        1|             8|   0|          2|          5|          8|            3|             2|                1|              4|               5|                4|                  639.7|          1|                 0.0|           0.0|\n",
            "|             3|             5|          4|               10|            10|          2|       5|        1|             7|   2|          8|         10|          6|            1|             2|                2|              8|               3|               10|                  720.4|          3|                 0.0|           0.0|\n",
            "|             4|            10|          4|                6|            10|          4|       0|        1|             8|   2|          1|          1|          8|            1|             1|                2|              3|               3|                3|                  673.5|          1|                 1.0|           1.0|\n",
            "|             4|            10|         10|                5|            10|          0|       1|        1|             7|   1|         10|          2|          8|            0|             3|                2|              4|               8|                6|                  707.6|          1|                 1.0|           1.0|\n",
            "|             5|            10|          7|               10|             5|          6|       5|        1|             6|   2|          8|         10|          9|            0|             7|                2|              5|               4|                7|                  727.8|          2|                 0.0|           0.0|\n",
            "|             3|             6|         10|               10|             6|          3|       5|        2|             8|   4|          1|          5|          8|            0|             0|                2|              5|               1|                2|                  687.1|          2|                 3.0|           1.0|\n",
            "+--------------+--------------+-----------+-----------------+--------------+-----------+--------+---------+--------------+----+-----------+-----------+-----------+-------------+--------------+-----------------+---------------+----------------+-----------------+-----------------------+-----------+--------------------+--------------+\n",
            "only showing top 20 rows\n",
            "\n"
          ]
        }
      ],
      "source": [
        "# Dropping the irrelevant columns: DAILY_STRESS, GENDER, AGE, Timestamp\n",
        "orb_encoded = orb_encoded.drop(\"DAILY_STRESS\", \"GENDER\", \"AGE\", \"Timestamp\")\n",
        "\n",
        "\n",
        "# Verifying the changes\n",
        "orb_encoded.show()"
      ]
    },
    {
      "cell_type": "code",
      "execution_count": 18,
      "metadata": {
        "id": "J5dOX_UycH0N"
      },
      "outputs": [],
      "source": []
    },
    {
      "cell_type": "code",
      "source": [],
      "metadata": {
        "id": "GYcK-RwEODQ0"
      },
      "execution_count": 18,
      "outputs": []
    },
    {
      "cell_type": "markdown",
      "source": [
        "# Feature Correlation Coefficients with the target variable"
      ],
      "metadata": {
        "id": "buYVkjG8TGUi"
      }
    },
    {
      "cell_type": "code",
      "execution_count": 19,
      "metadata": {
        "id": "11d_uYq0UZGL",
        "colab": {
          "base_uri": "https://localhost:8080/"
        },
        "outputId": "81fe6529-20da-4cc9-a725-8224b534d495"
      },
      "outputs": [
        {
          "output_type": "stream",
          "name": "stdout",
          "text": [
            "FRUITS_VEGGIES: 0.45225543341770175\n",
            "PLACES_VISITED: 0.5296154261850013\n",
            "CORE_CIRCLE: 0.5075409316031967\n",
            "SUPPORTING_OTHERS: 0.5488506172519293\n",
            "SOCIAL_NETWORK: 0.41258642200121615\n",
            "ACHIEVEMENT: 0.5612442258186958\n",
            "DONATION: 0.4588286737240075\n",
            "BMI_RANGE: -0.251987625295981\n",
            "TODO_COMPLETED: 0.5455026588978805\n",
            "FLOW: 0.4781992550765471\n",
            "DAILY_STEPS: 0.4229812298773749\n",
            "LIVE_VISION: 0.47131104364063336\n",
            "SLEEP_HOURS: 0.19639496277423\n",
            "LOST_VACATION: -0.2662432369602547\n",
            "DAILY_SHOUTING: -0.27315294943990065\n",
            "SUFFICIENT_INCOME: 0.40356119216507597\n",
            "PERSONAL_AWARDS: 0.5042236290010405\n",
            "TIME_FOR_PASSION: 0.5169669717583426\n",
            "WEEKLY_MEDITATION: 0.41617097563152766\n",
            "AGE_encoded: 0.11994167016979483\n"
          ]
        }
      ],
      "source": [
        "# Dropping the target variable - WORK_LIFE_BALANCE_SCORE from the features\n",
        "# Calculating the correlation of each feature with the target variable using the stat.corr\n",
        "features = orb_encoded.drop(\"WORK_LIFE_BALANCE_SCORE\").columns\n",
        "correlations = {feature: orb_encoded.stat.corr(feature, \"WORK_LIFE_BALANCE_SCORE\") for feature in features}\n",
        "\n",
        "# Features with correlation greater than 0.05 with the target variable is considered relevant and is stored in the selected_features list\n",
        "selected_features = [feature for feature, corr in correlations.items() if abs(corr) > 0.05]\n",
        "\n",
        "for feature in selected_features:\n",
        "    print(f\"{feature}: {correlations[feature]}\")\n"
      ]
    },
    {
      "cell_type": "code",
      "source": [],
      "metadata": {
        "id": "EBCK8ggsVRGL"
      },
      "execution_count": 19,
      "outputs": []
    },
    {
      "cell_type": "code",
      "source": [
        "orb_encoded.show()"
      ],
      "metadata": {
        "colab": {
          "base_uri": "https://localhost:8080/"
        },
        "id": "5PsjQ32DVRTc",
        "outputId": "47d88f9e-3cb9-4429-882e-3e7d003d4bf5"
      },
      "execution_count": 20,
      "outputs": [
        {
          "output_type": "stream",
          "name": "stdout",
          "text": [
            "+--------------+--------------+-----------+-----------------+--------------+-----------+--------+---------+--------------+----+-----------+-----------+-----------+-------------+--------------+-----------------+---------------+----------------+-----------------+-----------------------+-----------+--------------------+--------------+\n",
            "|FRUITS_VEGGIES|PLACES_VISITED|CORE_CIRCLE|SUPPORTING_OTHERS|SOCIAL_NETWORK|ACHIEVEMENT|DONATION|BMI_RANGE|TODO_COMPLETED|FLOW|DAILY_STEPS|LIVE_VISION|SLEEP_HOURS|LOST_VACATION|DAILY_SHOUTING|SUFFICIENT_INCOME|PERSONAL_AWARDS|TIME_FOR_PASSION|WEEKLY_MEDITATION|WORK_LIFE_BALANCE_SCORE|AGE_encoded|DAILY_STRESS_encoded|GENDER_encoded|\n",
            "+--------------+--------------+-----------+-----------------+--------------+-----------+--------+---------+--------------+----+-----------+-----------+-----------+-------------+--------------+-----------------+---------------+----------------+-----------------+-----------------------+-----------+--------------------+--------------+\n",
            "|             3|             2|          5|                0|             5|          2|       0|        1|             6|   4|          5|          0|          7|            5|             5|                1|              4|               0|                5|                  609.5|          2|                 1.0|           0.0|\n",
            "|             2|             4|          3|                8|            10|          5|       2|        2|             5|   2|          5|          5|          8|            2|             2|                2|              3|               2|                6|                  655.6|          2|                 0.0|           0.0|\n",
            "|             2|             3|          4|                4|            10|          3|       2|        2|             2|   2|          4|          5|          8|           10|             2|                2|              4|               8|                3|                  631.6|          2|                 0.0|           0.0|\n",
            "|             3|            10|          3|               10|             7|          2|       5|        2|             3|   5|          5|          0|          5|            7|             5|                1|              5|               2|                0|                  622.7|          3|                 0.0|           0.0|\n",
            "|             5|             3|          3|               10|             4|          2|       4|        2|             5|   0|          5|          0|          7|            0|             0|                2|              8|               1|                5|                  663.9|          3|                 3.0|           0.0|\n",
            "|             3|             3|          9|               10|            10|          2|       3|        1|             6|   1|          7|         10|          8|            0|             2|                2|             10|               8|                3|                  722.3|          3|                 1.0|           0.0|\n",
            "|             4|            10|          6|               10|            10|          3|       5|        2|             8|   8|          7|          5|          7|           10|             0|                2|             10|               8|               10|                  727.2|          3|                 1.0|           1.0|\n",
            "|             3|             5|          3|                5|             7|          4|       0|        1|             8|   2|          8|         10|          6|            0|             2|                2|              8|               2|                2|                  676.2|          1|                 2.0|           0.0|\n",
            "|             5|             6|          4|                3|             3|          5|       4|        1|            10|   2|          1|          5|         10|            0|             2|                2|             10|               3|               10|                  702.8|          1|                 0.0|           0.0|\n",
            "|             4|             2|          6|               10|            10|          0|       4|        2|             3|   2|          3|          0|          6|            0|             0|                1|              3|               8|                1|                  634.4|          3|                 2.0|           0.0|\n",
            "|             2|             7|          7|                1|             1|          3|       0|        2|             2|   2|          7|          4|          8|            7|             3|                2|              3|               0|                6|                  610.1|          2|                 2.0|           0.0|\n",
            "|             1|             3|          8|                0|             2|          1|       0|        1|             2|   1|          8|          2|          7|            7|             1|                2|              4|               1|                7|                  618.6|          1|                 2.0|           1.0|\n",
            "|             2|            10|          5|                2|             8|          3|       4|        2|             7|   1|          6|         10|          8|            0|             0|                2|              5|               2|                7|                  686.4|          1|                 1.0|           1.0|\n",
            "|             5|             0|          3|                6|             6|          6|       3|        1|             8|   7|          7|          2|          6|            0|             3|                2|              5|               6|                5|                  689.6|          2|                 0.0|           0.0|\n",
            "|             3|             2|          3|                7|             5|          3|       2|        1|             8|   0|          2|          5|          8|            3|             2|                1|              4|               5|                4|                  639.7|          1|                 0.0|           0.0|\n",
            "|             3|             5|          4|               10|            10|          2|       5|        1|             7|   2|          8|         10|          6|            1|             2|                2|              8|               3|               10|                  720.4|          3|                 0.0|           0.0|\n",
            "|             4|            10|          4|                6|            10|          4|       0|        1|             8|   2|          1|          1|          8|            1|             1|                2|              3|               3|                3|                  673.5|          1|                 1.0|           1.0|\n",
            "|             4|            10|         10|                5|            10|          0|       1|        1|             7|   1|         10|          2|          8|            0|             3|                2|              4|               8|                6|                  707.6|          1|                 1.0|           1.0|\n",
            "|             5|            10|          7|               10|             5|          6|       5|        1|             6|   2|          8|         10|          9|            0|             7|                2|              5|               4|                7|                  727.8|          2|                 0.0|           0.0|\n",
            "|             3|             6|         10|               10|             6|          3|       5|        2|             8|   4|          1|          5|          8|            0|             0|                2|              5|               1|                2|                  687.1|          2|                 3.0|           1.0|\n",
            "+--------------+--------------+-----------+-----------------+--------------+-----------+--------+---------+--------------+----+-----------+-----------+-----------+-------------+--------------+-----------------+---------------+----------------+-----------------+-----------------------+-----------+--------------------+--------------+\n",
            "only showing top 20 rows\n",
            "\n"
          ]
        }
      ]
    },
    {
      "cell_type": "markdown",
      "source": [
        "# Splitting the data for Training and Testing purposes"
      ],
      "metadata": {
        "id": "M6TWruK7TTvX"
      }
    },
    {
      "cell_type": "code",
      "execution_count": 21,
      "metadata": {
        "id": "PXv_fTHYO-MR"
      },
      "outputs": [],
      "source": [
        "# Splitting the data into training and test sets (70% training, 30% test)\n",
        "train_data, test_data = orb_encoded.randomSplit([0.7, 0.3], seed=1234)\n"
      ]
    },
    {
      "cell_type": "markdown",
      "source": [
        "# Linear Regression Model"
      ],
      "metadata": {
        "id": "4MifSQ8rTf6P"
      }
    },
    {
      "cell_type": "code",
      "execution_count": 22,
      "metadata": {
        "id": "Fx614lseO-Pq"
      },
      "outputs": [],
      "source": [
        "from pyspark.ml.regression import LinearRegression\n",
        "from pyspark.ml.feature import VectorAssembler\n",
        "\n",
        "# Using VectorAssembler to create a feature vector column\n",
        "assembler = VectorAssembler(inputCols=selected_features, outputCol=\"features\")\n",
        "train_data = assembler.transform(train_data)\n",
        "test_data = assembler.transform(test_data)\n",
        "\n",
        "# Linear Regression Model\n",
        "lr = LinearRegression(featuresCol=\"features\", labelCol=\"WORK_LIFE_BALANCE_SCORE\")\n",
        "\n",
        "# Training the model\n",
        "lr_model = lr.fit(train_data)\n",
        "\n",
        "# Evaluating on the test set\n",
        "test_results = lr_model.evaluate(test_data)\n",
        "\n"
      ]
    },
    {
      "cell_type": "code",
      "source": [],
      "metadata": {
        "id": "_GKUQ8Bhdkdb"
      },
      "execution_count": 22,
      "outputs": []
    },
    {
      "cell_type": "markdown",
      "source": [
        "# Model Evaluation Metrics"
      ],
      "metadata": {
        "id": "11YgLVTBTkOk"
      }
    },
    {
      "cell_type": "code",
      "execution_count": 23,
      "metadata": {
        "id": "L5ZnpLeDt392",
        "colab": {
          "base_uri": "https://localhost:8080/"
        },
        "outputId": "81115284-8a65-4d98-825b-eeba6d563d32"
      },
      "outputs": [
        {
          "output_type": "stream",
          "name": "stdout",
          "text": [
            "Number of Instances: 11189\n",
            "Root Mean Squared Error (RMSE): 4.22861904828392\n",
            "R2: 0.9910959824034354\n",
            "Mean Absolute Error: 3.4526600412562765\n",
            "Explained Variance: 2000.9061602983868\n",
            "\n",
            "Intercept: 531.0772282260863\n",
            "Coefficients:\n",
            "FRUITS_VEGGIES : 3.388952281300163\n",
            "PLACES_VISITED : 1.7273192824152128\n",
            "CORE_CIRCLE : 1.8045110780532192\n",
            "SUPPORTING_OTHERS : 1.6124784294380312\n",
            "SOCIAL_NETWORK : 1.6052872507483962\n",
            "ACHIEVEMENT : 1.7666624184752893\n",
            "DONATION : 3.361357008118315\n",
            "BMI_RANGE : -17.376283582497326\n",
            "TODO_COMPLETED : 1.7535070334888643\n",
            "FLOW : 1.7922319502690915\n",
            "DAILY_STEPS : 1.8943385233467975\n",
            "LIVE_VISION : 1.764564399343618\n",
            "SLEEP_HOURS : 2.2252460415096866\n",
            "LOST_VACATION : -1.8614612057076418\n",
            "DAILY_SHOUTING : -2.1231262378639295\n",
            "SUFFICIENT_INCOME : 18.01316378203299\n",
            "PERSONAL_AWARDS : 1.6440096349217956\n",
            "TIME_FOR_PASSION : 1.8101734784865224\n",
            "WEEKLY_MEDITATION : 1.9010496620009825\n",
            "AGE_encoded : -0.036176157389726606\n",
            "+-------------------+\n",
            "|          residuals|\n",
            "+-------------------+\n",
            "|  12.27483548169073|\n",
            "| -3.182904776012265|\n",
            "| 1.3884650277345827|\n",
            "| 10.136344554690595|\n",
            "| 0.3943003094003643|\n",
            "| -3.788890560329037|\n",
            "|  6.971463266970659|\n",
            "|  2.045002907814478|\n",
            "|   8.28100288639007|\n",
            "| 1.6024618609600338|\n",
            "| 1.6024618609600338|\n",
            "|-1.5391880797352542|\n",
            "|  8.468650276001995|\n",
            "|-3.3571637460016746|\n",
            "| -5.124746827935724|\n",
            "| -6.561348493502692|\n",
            "| -6.681517945466794|\n",
            "|  1.675535552249471|\n",
            "|   -6.7361774181486|\n",
            "| -5.523178760563496|\n",
            "+-------------------+\n",
            "only showing top 20 rows\n",
            "\n"
          ]
        }
      ],
      "source": [
        "# Summary statistics\n",
        "print(\"Number of Instances:\", train_data.count())\n",
        "print(\"Root Mean Squared Error (RMSE):\", test_results.rootMeanSquaredError)\n",
        "print(\"R2:\", test_results.r2)\n",
        "print(\"Mean Absolute Error:\", test_results.meanAbsoluteError)\n",
        "print(\"Explained Variance:\", test_results.explainedVariance)\n",
        "\n",
        "# Coefficients and Intercept\n",
        "print(\"\\nIntercept:\", lr_model.intercept)\n",
        "print(\"Coefficients:\")\n",
        "for coef, feature in zip(lr_model.coefficients, selected_features):\n",
        "    print(feature, \":\", coef)\n",
        "\n",
        "\n",
        "# Residuals Analysis\n",
        "residuals = test_results.residuals\n",
        "residuals.show()\n",
        "\n"
      ]
    },
    {
      "cell_type": "code",
      "execution_count": 23,
      "metadata": {
        "id": "eszZocTht4RY"
      },
      "outputs": [],
      "source": []
    },
    {
      "cell_type": "markdown",
      "source": [
        "# Cross Validation"
      ],
      "metadata": {
        "id": "an_OXJaDTtdO"
      }
    },
    {
      "cell_type": "code",
      "source": [
        "from pyspark.ml.tuning import CrossValidator, ParamGridBuilder\n",
        "from pyspark.ml.evaluation import RegressionEvaluator\n",
        "\n",
        "# Creating a ParamGrid for Cross Validation\n",
        "paramGrid = (ParamGridBuilder()\n",
        "             .addGrid(lr.regParam, [0.01, 0.1, 1.0]) # regularization parameter\n",
        "             .addGrid(lr.elasticNetParam, [0.0, 0.5, 1.0]) # Elastic Net Parameter (Ridge = 0)\n",
        "             .build())\n",
        "\n",
        "# Creating 5-fold CrossValidator\n",
        "crossval = CrossValidator(estimator=lr,\n",
        "                          estimatorParamMaps=paramGrid,\n",
        "                          evaluator=RegressionEvaluator(labelCol=\"WORK_LIFE_BALANCE_SCORE\"),\n",
        "                          numFolds=5)\n",
        "\n",
        "# Running cross-validation, and choose the best set of parameters.\n",
        "cvModel = crossval.fit(train_data)\n",
        "\n",
        "# Predictions using the model selected from cross-validation\n",
        "prediction = cvModel.transform(test_data)\n",
        "\n",
        "# Computing metrics on test data\n",
        "evaluator = RegressionEvaluator(predictionCol=\"prediction\", labelCol=\"WORK_LIFE_BALANCE_SCORE\", metricName=\"rmse\")\n",
        "rmse_test = evaluator.evaluate(prediction)\n",
        "print(f\"Root Mean Squared Error (RMSE) on test data: {rmse_test}\")\n",
        "\n",
        "evaluator_r2 = RegressionEvaluator(predictionCol=\"prediction\", labelCol=\"WORK_LIFE_BALANCE_SCORE\", metricName=\"r2\")\n",
        "r2_test = evaluator_r2.evaluate(prediction)\n",
        "print(f\"R2 on test data: {r2_test}\")\n"
      ],
      "metadata": {
        "colab": {
          "base_uri": "https://localhost:8080/"
        },
        "id": "Y8_hJQdhbvox",
        "outputId": "17225a0f-0e3e-407b-c184-1126b5dfce3c"
      },
      "execution_count": 24,
      "outputs": [
        {
          "output_type": "stream",
          "name": "stdout",
          "text": [
            "Root Mean Squared Error (RMSE) on test data: 4.228502610751527\n",
            "R2 on test data: 0.9910964727514907\n"
          ]
        }
      ]
    },
    {
      "cell_type": "code",
      "source": [
        "train_data"
      ],
      "metadata": {
        "id": "se8Rr9f-bvr5",
        "colab": {
          "base_uri": "https://localhost:8080/"
        },
        "outputId": "31875746-31dd-4caf-eec6-804916249d33"
      },
      "execution_count": 25,
      "outputs": [
        {
          "output_type": "execute_result",
          "data": {
            "text/plain": [
              "DataFrame[FRUITS_VEGGIES: int, PLACES_VISITED: int, CORE_CIRCLE: int, SUPPORTING_OTHERS: int, SOCIAL_NETWORK: int, ACHIEVEMENT: int, DONATION: int, BMI_RANGE: int, TODO_COMPLETED: int, FLOW: int, DAILY_STEPS: int, LIVE_VISION: int, SLEEP_HOURS: int, LOST_VACATION: int, DAILY_SHOUTING: int, SUFFICIENT_INCOME: int, PERSONAL_AWARDS: int, TIME_FOR_PASSION: int, WEEKLY_MEDITATION: int, WORK_LIFE_BALANCE_SCORE: double, AGE_encoded: int, DAILY_STRESS_encoded: double, GENDER_encoded: double, features: vector]"
            ]
          },
          "metadata": {},
          "execution_count": 25
        }
      ]
    },
    {
      "cell_type": "markdown",
      "source": [
        "# Random Forest Model and Evaluation"
      ],
      "metadata": {
        "id": "b9TGmwQwT03R"
      }
    },
    {
      "cell_type": "code",
      "source": [],
      "metadata": {
        "id": "oV9N6Ltk9Q3W"
      },
      "execution_count": 25,
      "outputs": []
    },
    {
      "cell_type": "code",
      "source": [
        "from pyspark.ml.regression import RandomForestRegressor\n",
        "from pyspark.ml.evaluation import RegressionEvaluator\n",
        "\n",
        "# Initializing the Random Forest Regressor\n",
        "rf = RandomForestRegressor(featuresCol=\"features\", labelCol=\"WORK_LIFE_BALANCE_SCORE\")\n",
        "\n",
        "# Training the model on training data\n",
        "rf_model = rf.fit(train_data)\n",
        "\n",
        "# Predictions on test data\n",
        "predictions_rf = rf_model.transform(test_data)\n",
        "\n",
        "\n",
        "# 1. Number of Instances\n",
        "num_instances = predictions_rf.count()\n",
        "print(\"Number of Instances:\", num_instances)\n",
        "\n",
        "# 2. RMSE\n",
        "evaluator_rmse = RegressionEvaluator(labelCol=\"WORK_LIFE_BALANCE_SCORE\", predictionCol=\"prediction\", metricName=\"rmse\")\n",
        "rmse = evaluator_rmse.evaluate(predictions_rf)\n",
        "print(\"Root Mean Squared Error (RMSE):\", rmse)\n",
        "\n",
        "# 3. R2\n",
        "evaluator_r2 = RegressionEvaluator(labelCol=\"WORK_LIFE_BALANCE_SCORE\", predictionCol=\"prediction\", metricName=\"r2\")\n",
        "r2 = evaluator_r2.evaluate(predictions_rf)\n",
        "print(\"R2:\", r2)\n",
        "\n",
        "# 4. MAE\n",
        "evaluator_mae = RegressionEvaluator(labelCol=\"WORK_LIFE_BALANCE_SCORE\", predictionCol=\"prediction\", metricName=\"mae\")\n",
        "mae = evaluator_mae.evaluate(predictions_rf)\n",
        "print(\"Mean Absolute Error (MAE):\", mae)"
      ],
      "metadata": {
        "colab": {
          "base_uri": "https://localhost:8080/"
        },
        "id": "dlHxBlc59Q81",
        "outputId": "f1b83b08-786a-4faf-84b0-279aa621a99b"
      },
      "execution_count": 26,
      "outputs": [
        {
          "output_type": "stream",
          "name": "stdout",
          "text": [
            "Number of Instances: 4783\n",
            "Root Mean Squared Error (RMSE): 22.478697759053222\n",
            "R2: 0.74838809725237\n",
            "Mean Absolute Error (MAE): 18.039114871912577\n"
          ]
        }
      ]
    },
    {
      "cell_type": "code",
      "source": [],
      "metadata": {
        "id": "J2tWvVZc9RCT"
      },
      "execution_count": 26,
      "outputs": []
    },
    {
      "cell_type": "code",
      "source": [
        "train_data"
      ],
      "metadata": {
        "id": "rbw_Devp9REa",
        "colab": {
          "base_uri": "https://localhost:8080/"
        },
        "outputId": "7b03e700-f09c-47cb-d7d5-ffd2cf201a81"
      },
      "execution_count": 27,
      "outputs": [
        {
          "output_type": "execute_result",
          "data": {
            "text/plain": [
              "DataFrame[FRUITS_VEGGIES: int, PLACES_VISITED: int, CORE_CIRCLE: int, SUPPORTING_OTHERS: int, SOCIAL_NETWORK: int, ACHIEVEMENT: int, DONATION: int, BMI_RANGE: int, TODO_COMPLETED: int, FLOW: int, DAILY_STEPS: int, LIVE_VISION: int, SLEEP_HOURS: int, LOST_VACATION: int, DAILY_SHOUTING: int, SUFFICIENT_INCOME: int, PERSONAL_AWARDS: int, TIME_FOR_PASSION: int, WEEKLY_MEDITATION: int, WORK_LIFE_BALANCE_SCORE: double, AGE_encoded: int, DAILY_STRESS_encoded: double, GENDER_encoded: double, features: vector]"
            ]
          },
          "metadata": {},
          "execution_count": 27
        }
      ]
    },
    {
      "cell_type": "markdown",
      "source": [
        "# Gradient Boosted Tree Model"
      ],
      "metadata": {
        "id": "a0QXZeOZUQ_N"
      }
    },
    {
      "cell_type": "code",
      "source": [
        "from pyspark.ml.regression import GBTRegressor\n",
        "from pyspark.ml.evaluation import RegressionEvaluator\n"
      ],
      "metadata": {
        "id": "yPMjBW189RG_"
      },
      "execution_count": 28,
      "outputs": []
    },
    {
      "cell_type": "code",
      "source": [
        "gbt = GBTRegressor(featuresCol=\"features\", labelCol=\"WORK_LIFE_BALANCE_SCORE\", maxIter=10)\n",
        "gbt_model = gbt.fit(train_data)\n"
      ],
      "metadata": {
        "id": "uD4mnrgg-BWK"
      },
      "execution_count": 29,
      "outputs": []
    },
    {
      "cell_type": "code",
      "source": [
        "gbt_predictions = gbt_model.transform(test_data)\n"
      ],
      "metadata": {
        "id": "2fx6f1lx-BZQ"
      },
      "execution_count": 30,
      "outputs": []
    },
    {
      "cell_type": "code",
      "source": [],
      "metadata": {
        "id": "4QOT7KAS-Bfj"
      },
      "execution_count": 30,
      "outputs": []
    },
    {
      "cell_type": "code",
      "source": [
        "feature_importance = gbt_model.featureImportances\n",
        "for i in range(len(selected_features)):\n",
        "    print(selected_features[i], \":\", feature_importance[i])\n"
      ],
      "metadata": {
        "colab": {
          "base_uri": "https://localhost:8080/"
        },
        "id": "99pqQ9xQ-Bia",
        "outputId": "c6e27dd8-c3eb-4b45-b1a3-9930fab8778f"
      },
      "execution_count": 31,
      "outputs": [
        {
          "output_type": "stream",
          "name": "stdout",
          "text": [
            "FRUITS_VEGGIES : 0.026134649683816857\n",
            "PLACES_VISITED : 0.0612996789828739\n",
            "CORE_CIRCLE : 0.07222044342548321\n",
            "SUPPORTING_OTHERS : 0.12233311138662055\n",
            "SOCIAL_NETWORK : 0.04070903216839264\n",
            "ACHIEVEMENT : 0.026793061163484743\n",
            "DONATION : 0.07693557463894003\n",
            "BMI_RANGE : 0.13368348788216922\n",
            "TODO_COMPLETED : 0.053394984462204136\n",
            "FLOW : 0.014041869523987432\n",
            "DAILY_STEPS : 0.06034053552173583\n",
            "LIVE_VISION : 0.023650211505585227\n",
            "SLEEP_HOURS : 0.0\n",
            "LOST_VACATION : 0.08630511844928927\n",
            "DAILY_SHOUTING : 0.05067301485105004\n",
            "SUFFICIENT_INCOME : 0.01961892840552255\n",
            "PERSONAL_AWARDS : 0.02993623735530808\n",
            "TIME_FOR_PASSION : 0.07225620718318697\n",
            "WEEKLY_MEDITATION : 0.029673853410349074\n",
            "AGE_encoded : 0.0\n"
          ]
        }
      ]
    },
    {
      "cell_type": "code",
      "source": [],
      "metadata": {
        "id": "Z_v4R0YW9RJV"
      },
      "execution_count": 31,
      "outputs": []
    },
    {
      "cell_type": "markdown",
      "source": [
        "# GBT Model Evaluation"
      ],
      "metadata": {
        "id": "Rd08ZRHKUh4Q"
      }
    },
    {
      "cell_type": "code",
      "source": [],
      "metadata": {
        "id": "l7sgbC7Z_qww"
      },
      "execution_count": 31,
      "outputs": []
    },
    {
      "cell_type": "code",
      "source": [],
      "metadata": {
        "id": "-fkeIPHkAvP6"
      },
      "execution_count": 31,
      "outputs": []
    },
    {
      "cell_type": "code",
      "source": [],
      "metadata": {
        "id": "0G7-enXGAvTB"
      },
      "execution_count": 31,
      "outputs": []
    },
    {
      "cell_type": "code",
      "source": [],
      "metadata": {
        "id": "tlIxH2EKAvVX"
      },
      "execution_count": 31,
      "outputs": []
    },
    {
      "cell_type": "code",
      "source": [],
      "metadata": {
        "id": "E6-hx1lmAvXe"
      },
      "execution_count": 31,
      "outputs": []
    },
    {
      "cell_type": "code",
      "source": [],
      "metadata": {
        "id": "-4omTk9GAvZ0"
      },
      "execution_count": 31,
      "outputs": []
    },
    {
      "cell_type": "code",
      "source": [],
      "metadata": {
        "id": "TQ_mK7V7_qzE"
      },
      "execution_count": 31,
      "outputs": []
    },
    {
      "cell_type": "code",
      "source": [],
      "metadata": {
        "id": "I3hUtjj8_q1r"
      },
      "execution_count": 31,
      "outputs": []
    }
  ],
  "metadata": {
    "colab": {
      "provenance": []
    },
    "kernelspec": {
      "display_name": "Python 3",
      "name": "python3"
    },
    "language_info": {
      "name": "python"
    }
  },
  "nbformat": 4,
  "nbformat_minor": 0
}